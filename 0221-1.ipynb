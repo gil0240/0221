{
 "cells": [
  {
   "cell_type": "code",
   "execution_count": 2,
   "id": "a7d0c064",
   "metadata": {},
   "outputs": [],
   "source": [
    "num1 = 50\n",
    "num2 = 100"
   ]
  },
  {
   "cell_type": "code",
   "execution_count": 7,
   "id": "2b2f5bfa",
   "metadata": {},
   "outputs": [
    {
     "name": "stdout",
     "output_type": "stream",
     "text": [
      "50  + 100  = 150\n",
      "50  - 100  = -50\n",
      "50  x 100  = 5000\n",
      "50  / 100  = 0.5\n",
      "50  // 100  = 0\n",
      "50  % 100  = 50\n"
     ]
    }
   ],
   "source": [
    "print(num1, ' +',num2, ' =', num1 + num2)\n",
    "print(num1, ' -',num2,' =', num1 - num2)\n",
    "print(num1, ' x',num2,' =',num1 * num2)\n",
    "print(num1, ' /',num2,' =', num1 / num2)\n",
    "print(num1, ' //',num2,' =', num1 // num2)\n",
    "print(num1, ' %',num2,' =', num1 % num2)\n"
   ]
  },
  {
   "cell_type": "code",
   "execution_count": 14,
   "id": "3d6361af",
   "metadata": {},
   "outputs": [
    {
     "name": "stdout",
     "output_type": "stream",
     "text": [
      "사각형의 가로 : 35\n",
      "사각형의 세로 : 67\n"
     ]
    }
   ],
   "source": [
    "width = int(input('사각형의 가로 : '))\n",
    "height = int(input('사각형의 세로 : '))"
   ]
  },
  {
   "cell_type": "code",
   "execution_count": 15,
   "id": "d4e7a773",
   "metadata": {},
   "outputs": [
    {
     "name": "stdout",
     "output_type": "stream",
     "text": [
      "사각형의 넓이 : 2345 입니다\n"
     ]
    }
   ],
   "source": [
    "print('사각형의 넓이 : %d 입니다' % (width * height))"
   ]
  },
  {
   "cell_type": "code",
   "execution_count": null,
   "id": "99caef17",
   "metadata": {},
   "outputs": [],
   "source": []
  }
 ],
 "metadata": {
  "kernelspec": {
   "display_name": "Python 3 (ipykernel)",
   "language": "python",
   "name": "python3"
  },
  "language_info": {
   "codemirror_mode": {
    "name": "ipython",
    "version": 3
   },
   "file_extension": ".py",
   "mimetype": "text/x-python",
   "name": "python",
   "nbconvert_exporter": "python",
   "pygments_lexer": "ipython3",
   "version": "3.10.6"
  }
 },
 "nbformat": 4,
 "nbformat_minor": 5
}
